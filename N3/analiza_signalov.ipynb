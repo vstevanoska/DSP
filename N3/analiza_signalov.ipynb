{
 "cells": [
  {
   "cell_type": "code",
   "execution_count": 3,
   "id": "a57830e1-778e-4683-9afd-76f259ae24dc",
   "metadata": {},
   "outputs": [],
   "source": [
    "from scipy.fft import fft\n",
    "import soundfile as sf\n",
    "import numpy as np\n",
    "import matplotlib.pyplot as plt\n",
    "from pydub import AudioSegment"
   ]
  },
  {
   "cell_type": "code",
   "execution_count": 4,
   "id": "b93f91ba-9a6a-470e-a42d-066d6006bc7c",
   "metadata": {},
   "outputs": [],
   "source": [
    "def dft(filename, mode, blades):\n",
    "    \n",
    "    data1 = AudioSegment.from_file(filename)\n",
    "    data = data1.set_channels(1).get_array_of_samples()\n",
    "    # fs = data1.frame_rate / len(data)\n",
    "    # k = np.arange(1, int(len(data) / 2) - 1, fs)\n",
    "\n",
    "    N = len(data)\n",
    "    n = np.arange(0, N)\n",
    "    # k = np.arange(1, data1.frame_rate / 2, data1.frame_rate / len(data))\n",
    "\n",
    "    print(len(k))\n",
    "    k = np.linspace(1, 1000, 1000)\n",
    "    # k = n.reshape((N, 1))\n",
    "\n",
    "    # n = np.arange(N)\n",
    "    # T = N / data1.frame_rate\n",
    "    # k = n / T\n",
    "    # k = np.linspace(1, 1000)\n",
    "    X = np.zeros(len(k))\n",
    "\n",
    "    # print(len(k))\n",
    "\n",
    "    for i in range (0, len(k)):\n",
    "\n",
    "        # print(i)\n",
    "\n",
    "        # if mode == \"real\":\n",
    "        #     base_sinusoid = np.cos(2 * np.pi * k[i] * n / N)\n",
    "        #     title_append = \" z realnimi sinusoidami\"\n",
    "        if mode == \"complex\":\n",
    "            base_sinusoid = np.exp(-2j * np.pi * k[i] * n / N)\n",
    "            title_append = \" s kompleksnimi sinusoidami\"\n",
    "\n",
    "        dot_product = np.dot(data, base_sinusoid)\n",
    "    \n",
    "        X[i] = np.abs(dot_product)\n",
    "\n",
    "    # n_oneside = N // 2\n",
    "    # k = k[:n_oneside]\n",
    "    \n",
    "    # X = X[:n_oneside]/n_oneside\n",
    "    \n",
    "    energy_sum = 0\n",
    "    for i in range(0, len(X)):\n",
    "        energy_sum += X[i] ** 2\n",
    "\n",
    "    present_frequencies = []\n",
    "    for i in range(0, len(X)):\n",
    "        if (((X[i] ** 2) * 100 / energy_sum) >= 1):\n",
    "            present_frequencies.append(k[i])\n",
    "\n",
    "    print(\"The following frequencies are present: \", present_frequencies)\n",
    "        \n",
    "    plt.figure(1)\n",
    "    \n",
    "    plt.title(\"Frequency analysis\") \n",
    "    plt.xlabel(\"Frequency\")\n",
    "    plt.ylabel(\"Magnitude\")\n",
    "    \n",
    "    plt.plot(k, X)\n",
    "    \n",
    "    plt.show()\n",
    "\n",
    "    print(\"RPM: \", present_frequencies[0] * 60 / blades)"
   ]
  },
  {
   "cell_type": "code",
   "execution_count": 5,
   "id": "48ee3984-92e6-4cfc-adc2-5120ea1f0c71",
   "metadata": {},
   "outputs": [
    {
     "ename": "UnboundLocalError",
     "evalue": "local variable 'k' referenced before assignment",
     "output_type": "error",
     "traceback": [
      "\u001b[1;31m---------------------------------------------------------------------------\u001b[0m",
      "\u001b[1;31mUnboundLocalError\u001b[0m                         Traceback (most recent call last)",
      "Cell \u001b[1;32mIn[5], line 1\u001b[0m\n\u001b[1;32m----> 1\u001b[0m \u001b[43mdft\u001b[49m\u001b[43m(\u001b[49m\u001b[38;5;124;43m\"\u001b[39;49m\u001b[38;5;124;43mC:/Users/Viktorija/Desktop/ROSIS/N3/rpm/sig_a_1.m4a\u001b[39;49m\u001b[38;5;124;43m\"\u001b[39;49m\u001b[43m,\u001b[49m\u001b[43m \u001b[49m\u001b[38;5;124;43m\"\u001b[39;49m\u001b[38;5;124;43mcomplex\u001b[39;49m\u001b[38;5;124;43m\"\u001b[39;49m\u001b[43m,\u001b[49m\u001b[43m \u001b[49m\u001b[38;5;241;43m10\u001b[39;49m\u001b[43m)\u001b[49m\n",
      "Cell \u001b[1;32mIn[4], line 12\u001b[0m, in \u001b[0;36mdft\u001b[1;34m(filename, mode, blades)\u001b[0m\n\u001b[0;32m      9\u001b[0m n \u001b[38;5;241m=\u001b[39m np\u001b[38;5;241m.\u001b[39marange(\u001b[38;5;241m0\u001b[39m, N)\n\u001b[0;32m     10\u001b[0m \u001b[38;5;66;03m# k = np.arange(1, data1.frame_rate / 2, data1.frame_rate / len(data))\u001b[39;00m\n\u001b[1;32m---> 12\u001b[0m \u001b[38;5;28mprint\u001b[39m(\u001b[38;5;28mlen\u001b[39m(\u001b[43mk\u001b[49m))\n\u001b[0;32m     13\u001b[0m k \u001b[38;5;241m=\u001b[39m np\u001b[38;5;241m.\u001b[39mlinspace(\u001b[38;5;241m1\u001b[39m, \u001b[38;5;241m1000\u001b[39m, \u001b[38;5;241m1000\u001b[39m)\n\u001b[0;32m     14\u001b[0m \u001b[38;5;66;03m# k = n.reshape((N, 1))\u001b[39;00m\n\u001b[0;32m     15\u001b[0m \n\u001b[0;32m     16\u001b[0m \u001b[38;5;66;03m# n = np.arange(N)\u001b[39;00m\n\u001b[0;32m     17\u001b[0m \u001b[38;5;66;03m# T = N / data1.frame_rate\u001b[39;00m\n\u001b[0;32m     18\u001b[0m \u001b[38;5;66;03m# k = n / T\u001b[39;00m\n\u001b[0;32m     19\u001b[0m \u001b[38;5;66;03m# k = np.linspace(1, 1000)\u001b[39;00m\n",
      "\u001b[1;31mUnboundLocalError\u001b[0m: local variable 'k' referenced before assignment"
     ]
    }
   ],
   "source": [
    "dft(\"C:/Users/Viktorija/Desktop/ROSIS/N3/rpm/sig_a_1.m4a\", \"complex\", 10)"
   ]
  },
  {
   "cell_type": "code",
   "execution_count": null,
   "id": "79197cd5-bc90-4fd4-a3b6-537612b990b5",
   "metadata": {},
   "outputs": [],
   "source": [
    "dft(\"C:/Users/Viktorija/Desktop/ROSIS/N3/rpm/sig_b_1.m4a\", \"complex\", 5)"
   ]
  },
  {
   "cell_type": "code",
   "execution_count": null,
   "id": "2d450a78-d12e-4c1f-90a4-12e2c9201d77",
   "metadata": {},
   "outputs": [],
   "source": [
    "dft(\"C:/Users/Viktorija/Desktop/ROSIS/N3/rpm/sig_c_1.m4a\", \"complex\", 3)"
   ]
  },
  {
   "cell_type": "code",
   "execution_count": null,
   "id": "5827e1e3-016d-437d-9be2-f2186fb86c06",
   "metadata": {},
   "outputs": [],
   "source": [
    "dft(\"C:/Users/Viktorija/Desktop/ROSIS/N3/rpm/sig_c_2.m4a\", \"complex\", 3)"
   ]
  },
  {
   "cell_type": "code",
   "execution_count": null,
   "id": "6a498be2-1a73-4178-83d1-152074f8aaa5",
   "metadata": {},
   "outputs": [],
   "source": [
    "dft(\"C:/Users/Viktorija/Desktop/ROSIS/N3/rpm/sig_c_3.m4a\", \"complex\", 3)"
   ]
  },
  {
   "cell_type": "code",
   "execution_count": null,
   "id": "3f557452-f50f-40fe-ab34-22544e6b594e",
   "metadata": {},
   "outputs": [],
   "source": [
    "dft(\"C:/Users/Viktorija/Desktop/ROSIS/N3/rpm/sig_c_4.m4a\", \"complex\", 3)"
   ]
  },
  {
   "cell_type": "code",
   "execution_count": null,
   "id": "14e9a3e6-29c1-47c3-b144-5bbc72d016f1",
   "metadata": {},
   "outputs": [],
   "source": [
    "dft(\"C:/Users/Viktorija/Desktop/ROSIS/N3/rpm/sig_c_5.m4a\", \"complex\", 3)"
   ]
  },
  {
   "cell_type": "code",
   "execution_count": null,
   "id": "b1261f2c-36dc-4719-a98c-7c0d83219bc5",
   "metadata": {},
   "outputs": [],
   "source": [
    "dft(\"C:/Users/Viktorija/Desktop/ROSIS/N3/rpm/sig_c_6.m4a\", \"complex\", 3)"
   ]
  },
  {
   "cell_type": "code",
   "execution_count": null,
   "id": "725cbb89-9584-4947-95d0-0ee153f21a6e",
   "metadata": {},
   "outputs": [],
   "source": [
    "dft(\"C:/Users/Viktorija/Desktop/ROSIS/N3/rpm/sig_c_7.m4a\", \"complex\", 3)"
   ]
  },
  {
   "cell_type": "code",
   "execution_count": 3,
   "id": "253a818a-76bc-41eb-8fa0-32a5baddf7cc",
   "metadata": {},
   "outputs": [
    {
     "name": "stdout",
     "output_type": "stream",
     "text": [
      "The following frequencies are present:  [199.37564366632338, 199.47219361483008, 199.56874356333677, 199.61701853759013, 199.71356848609682, 199.8101184346035, 199.85839340885684, 200.05149330587025, 200.09976828012358, 200.14804325437694, 200.43769309989702, 399.5719618949537]\n"
     ]
    },
    {
     "data": {
      "image/png": "[encoded data removed]",
      "text/plain": [
       "<Figure size 640x480 with 1 Axes>"
      ]
     },
     "metadata": {},
     "output_type": "display_data"
    }
   ],
   "source": [
    "data1 = AudioSegment.from_file(\"C:/Users/Viktorija/Desktop/ROSIS/N3/rpm/sig_b_1.m4a\")\n",
    "data = data1.set_channels(1).get_array_of_samples()\n",
    "N = len(data)\n",
    "n = np.arange(N)\n",
    "T = N / data1.frame_rate\n",
    "freq = n / T\n",
    "# print(freq)\n",
    "\n",
    "X = fft(data)\n",
    "# xf = fftfreq(N, T)[:N//2]\n",
    "\n",
    "plt.figure(1)\n",
    "\n",
    "plt.title(\"Frequency analysis\")\n",
    "plt.xlabel(\"Frequency\")\n",
    "plt.ylabel(\"Magnitude\")\n",
    "\n",
    "n_oneside = N // 2\n",
    "freq = freq[:n_oneside]\n",
    "\n",
    "X = X[:n_oneside]/n_oneside\n",
    "\n",
    "energy_sum = 0\n",
    "for i in range(0, len(X)):\n",
    "    energy_sum += X[i] ** 2\n",
    "\n",
    "present_frequencies = []\n",
    "for i in range(0, len(X)):\n",
    "    if (((X[i] ** 2) * 100 / energy_sum) >= 1):\n",
    "        present_frequencies.append(freq[i])\n",
    "\n",
    "print(\"The following frequencies are present: \", present_frequencies)\n",
    "\n",
    "# X = X[:len(X) / 2]\n",
    "# time = np.linspace(0, )\n",
    "\n",
    "# plt.plot(np.linspace(0, 1000, num=int(len(data) / 2)), abs(X[:int(len(data)/2)]))\n",
    "\n",
    "plt.plot(freq[:20000], abs(X)[:20000])\n",
    "\n",
    "plt.show()"
   ]
  }
 ],
 "metadata": {
  "kernelspec": {
   "display_name": "Python 3 (ipykernel)",
   "language": "python",
   "name": "python3"
  },
  "language_info": {
   "codemirror_mode": {
    "name": "ipython",
    "version": 3
   },
   "file_extension": ".py",
   "mimetype": "text/x-python",
   "name": "python",
   "nbconvert_exporter": "python",
   "pygments_lexer": "ipython3",
   "version": "3.9.19"
  }
 },
 "nbformat": 4,
 "nbformat_minor": 5
}
